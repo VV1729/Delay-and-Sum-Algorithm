{
  "nbformat": 4,
  "nbformat_minor": 0,
  "metadata": {
    "colab": {
      "provenance": []
    },
    "kernelspec": {
      "name": "python3",
      "display_name": "Python 3"
    },
    "language_info": {
      "name": "python"
    }
  },
  "cells": [
    {
      "cell_type": "markdown",
      "source": [
        "**REINFORCEMENT LEARNING IN DYNAMIC PRICING** -VISHWANATH VINOD\n",
        "\n",
        "*Dynamic pricing is related to price-fixing for perishable resources taking into account demand so that to maximize revenue or profit” (Fleischmann, Hall, Pyke, 2004).*"
      ],
      "metadata": {
        "id": "nWVjg2mVod3U"
      }
    },
    {
      "cell_type": "markdown",
      "source": [
        "**INDEX**\n",
        "\n",
        "1.   Policy Iteration:\n",
        "        *   Synchronous\n",
        "        *   In place\n",
        "\n",
        "\n",
        "2.   Value Iteration\n",
        "3.   Monte Carlo Method\n",
        "       *   Every-Visit Monte Carlo Prediction\n",
        "       *   First-Visit Monte Carlo Prediction\n",
        "\n",
        "\n",
        "4.   Temporal Difference Learning\n",
        "      - SARSA\n",
        "      - Q-Learning\n",
        "      - Double Q-Learning\n",
        "5.  Policy  Gradient Algorithms\n",
        "      - Reinforce      \n",
        "      - Actor Critic Algorithms(A3C and SAC)\n",
        "      - PPO\n",
        "      - Dual Deterministic Policy  Gradient (DDPG)\n",
        "\n",
        "\n"
      ],
      "metadata": {
        "id": "cGYMPnOWopmm"
      }
    },
    {
      "cell_type": "markdown",
      "source": [
        "**POLICY ITERATION**"
      ],
      "metadata": {
        "id": "Nw4tomczphzF"
      }
    },
    {
      "cell_type": "code",
      "source": [
        "#IMPORTS\n",
        "import numpy as np\n",
        "import matplotlib.pyplot as plt"
      ],
      "metadata": {
        "id": "e3AuUU2DpgaA"
      },
      "execution_count": null,
      "outputs": []
    },
    {
      "cell_type": "markdown",
      "source": [
        "Creating an environment"
      ],
      "metadata": {
        "id": "19thQzZRqj1P"
      }
    },
    {
      "cell_type": "code",
      "execution_count": null,
      "metadata": {
        "id": "vSwxyzQqodH_"
      },
      "outputs": [],
      "source": [
        "m,n =4, 4\n",
        "S=[(r,c)for r in range (m) for c in range (n)]#all states\n",
        "A=['N','S','E','W']\n",
        "action_count=4\n",
        "terminal=[(0,0),(3,3)]#terminal states\n",
        "df=1#discount factor\n"
      ]
    },
    {
      "cell_type": "markdown",
      "source": [
        "Transition function"
      ],
      "metadata": {
        "id": "PPnNg_xBrxNN"
      }
    },
    {
      "cell_type": "code",
      "source": [
        "def transn(s,a,s_next):\n",
        "  r,c=s\n",
        "  if(a=='N'):\n",
        "    r=r if(r==0)else r-1\n",
        "  if(a=='S'):\n",
        "    r=r if(r==m-1)else r+1\n",
        "  if(a=='E'):\n",
        "    c=c if(c==n-1)else c+1\n",
        "  if(a=='W'):\n",
        "    c=c if(c==0)else c-1\n",
        "  prob=1 if((r,c)==s_next) else 0# deterministic transition so next state is fixed given state and action p(s'|(s,a))=1\n",
        "  reward=-1 #return probability and reward\n",
        "  return prob,reward\n"
      ],
      "metadata": {
        "id": "CrYJhzXkrvcM"
      },
      "execution_count": null,
      "outputs": []
    },
    {
      "cell_type": "markdown",
      "source": [
        "**Policy**\n",
        "\n",
        "*In this case let us assume equiprobable policy distribution*\n",
        "\n",
        "π('N'|s)=0.25\n",
        "\n",
        "π('S'|s)=0.25\n",
        "\n",
        "π('E'|s)=0.25\n",
        "\n",
        "π('W'|s)=0.25\n"
      ],
      "metadata": {
        "id": "F-DKM-LHvVia"
      }
    },
    {
      "cell_type": "code",
      "source": [
        "policy={s:{a:0.25 for a in A} for s in S}\n"
      ],
      "metadata": {
        "id": "g2pCGYWOveA6"
      },
      "execution_count": null,
      "outputs": []
    },
    {
      "cell_type": "markdown",
      "source": [
        "Policy Evaluation\n",
        "\n",
        "a)Synchhronous\n",
        "\n",
        "  Update rule is given by\n",
        "\n",
        "  $v_{k+1}(s)$ =Σπ(a|s) Σp(s',r|s,a) [r+$v_{k}(s')$]\n",
        "\n",
        "= Prob of taking action a in state s * Expected return from state s by taking this action\n",
        "\n"
      ],
      "metadata": {
        "id": "2s_ypaAfw0jc"
      }
    },
    {
      "cell_type": "markdown",
      "source": [
        "\n",
        "      \n"
      ],
      "metadata": {
        "id": "5UBnNjp7w_iK"
      }
    },
    {
      "cell_type": "code",
      "source": [
        "def evaluate(policy):\n",
        "  theta=1e-4#convergence limit\n",
        "  delta =1\n",
        "  v={s:0 for s in S}#value function at each time step\n",
        "  iter=0\n",
        "  while(delta>=theta):\n",
        "        iter+=1\n",
        "        v_next={s:0 for s in S}#value function at next time step\n",
        "        delta =0\n",
        "        for s in S: #chooses one state\n",
        "          if s in terminal:#if state is terminal stop\n",
        "            continue\n",
        "          for a in A:#choose an action to be executed at that state\n",
        "            for s_next in S:\n",
        "              prob,reward=transn(s,a,s_next)\n",
        "              v_next[s]+=policy[s][a]*prob*(reward+df*v[s_next]) #expected value after executing action a* prob of executing action a\n",
        "          delta =max(delta,abs(v_next[s]-v[s]) ) #if change in value is smaller than deta\n",
        "        v=v_next.copy()#storing next timesteps value in v\n",
        "  return v,iter\n",
        "v,iter=evaluate(policy)\n",
        "v={s: np.round(v[s],0)for s in S}\n",
        "print(v)\n",
        "print(iter)\n",
        "\n",
        "\n"
      ],
      "metadata": {
        "colab": {
          "base_uri": "https://localhost:8080/"
        },
        "id": "gw6PBd0_30Ac",
        "outputId": "b37a9c3f-9cb6-406e-ab16-118103bb11cf"
      },
      "execution_count": null,
      "outputs": [
        {
          "output_type": "stream",
          "name": "stdout",
          "text": [
            "{(0, 0): 0, (0, 1): -14.0, (0, 2): -20.0, (0, 3): -22.0, (1, 0): -14.0, (1, 1): -18.0, (1, 2): -20.0, (1, 3): -20.0, (2, 0): -20.0, (2, 1): -20.0, (2, 2): -18.0, (2, 3): -14.0, (3, 0): -22.0, (3, 1): -20.0, (3, 2): -14.0, (3, 3): 0}\n",
            "173\n"
          ]
        }
      ]
    },
    {
      "cell_type": "markdown",
      "source": [
        "b) In-place algorithm"
      ],
      "metadata": {
        "id": "3BYs-imoXuMb"
      }
    },
    {
      "cell_type": "code",
      "source": [
        "def evaluateip(policy):\n",
        "  theta=1e-4\n",
        "  v={s:0 for s in S}\n",
        "  iter=0\n",
        "  delta=1\n",
        "  while(delta>=theta):\n",
        "    iter+=1\n",
        "    delta=0\n",
        "    for s in S:\n",
        "      vpres=0\n",
        "      if s in terminal:\n",
        "        continue\n",
        "      for a in A:\n",
        "        for s_next in S:\n",
        "            prob,reward=transn(s,a,s_next)\n",
        "            vpres+=policy[s][a]*prob*(reward+df*v[s_next])\n",
        "      delta=max(delta,abs(v[s]-vpres))\n",
        "      v[s]=vpres\n",
        "  return v,iter\n",
        "v,iter=evaluateip(policy)\n",
        "v={s:np.round(v[s],0)for s in S}\n",
        "print(iter)\n",
        "print(v)\n",
        "\n",
        "\n",
        "\n",
        "\n"
      ],
      "metadata": {
        "colab": {
          "base_uri": "https://localhost:8080/"
        },
        "id": "zXIrqfZxXpvJ",
        "outputId": "f639abc5-175c-4084-bd49-b005e92f1a4b"
      },
      "execution_count": null,
      "outputs": [
        {
          "output_type": "stream",
          "name": "stdout",
          "text": [
            "114\n",
            "{(0, 0): 0, (0, 1): -14.0, (0, 2): -20.0, (0, 3): -22.0, (1, 0): -14.0, (1, 1): -18.0, (1, 2): -20.0, (1, 3): -20.0, (2, 0): -20.0, (2, 1): -20.0, (2, 2): -18.0, (2, 3): -14.0, (3, 0): -22.0, (3, 1): -20.0, (3, 2): -14.0, (3, 3): 0}\n"
          ]
        }
      ]
    },
    {
      "cell_type": "markdown",
      "source": [
        "Policy Imporvement"
      ],
      "metadata": {
        "id": "Ljg3sK_YbulV"
      }
    },
    {
      "cell_type": "code",
      "source": [
        "def improve(v):\n",
        "  better={s:{a:0 for a in A}for s in S}\n",
        "  q={s:{a:0 for a in A}for s in S}\n",
        "  for s in S:\n",
        "    for a in A:\n",
        "      for s_next in S:\n",
        "        prob,reward=transn(s,a,s_next)\n",
        "        q[s][a]+=prob*(reward+df*v[s_next])\n",
        "    max_index = max([(a,q[s][a]) for a in A], key=lambda x: x[1])[0]\n",
        "    better[s][max_index]=1\n",
        "  return better\n",
        "better=improve(v)\n",
        "print(better)\n",
        "\n",
        "\n",
        "\n",
        "\n",
        "\n",
        "\n"
      ],
      "metadata": {
        "colab": {
          "base_uri": "https://localhost:8080/"
        },
        "id": "PlAeovkQbxKs",
        "outputId": "53e73f96-faa9-4d97-f86a-61466a71bb6d"
      },
      "execution_count": null,
      "outputs": [
        {
          "output_type": "stream",
          "name": "stdout",
          "text": [
            "{(0, 0): {'N': 1, 'S': 0, 'E': 0, 'W': 0}, (0, 1): {'N': 0, 'S': 0, 'E': 0, 'W': 1}, (0, 2): {'N': 0, 'S': 0, 'E': 0, 'W': 1}, (0, 3): {'N': 0, 'S': 1, 'E': 0, 'W': 0}, (1, 0): {'N': 1, 'S': 0, 'E': 0, 'W': 0}, (1, 1): {'N': 1, 'S': 0, 'E': 0, 'W': 0}, (1, 2): {'N': 0, 'S': 1, 'E': 0, 'W': 0}, (1, 3): {'N': 0, 'S': 1, 'E': 0, 'W': 0}, (2, 0): {'N': 1, 'S': 0, 'E': 0, 'W': 0}, (2, 1): {'N': 1, 'S': 0, 'E': 0, 'W': 0}, (2, 2): {'N': 0, 'S': 1, 'E': 0, 'W': 0}, (2, 3): {'N': 0, 'S': 1, 'E': 0, 'W': 0}, (3, 0): {'N': 1, 'S': 0, 'E': 0, 'W': 0}, (3, 1): {'N': 0, 'S': 0, 'E': 1, 'W': 0}, (3, 2): {'N': 0, 'S': 0, 'E': 1, 'W': 0}, (3, 3): {'N': 0, 'S': 1, 'E': 0, 'W': 0}}\n"
          ]
        }
      ]
    },
    {
      "cell_type": "code",
      "source": [
        "iter=0\n",
        "policy={s:{a:0.25 for a in A} for s in S}\n",
        "v,_=evaluate(policy)\n",
        "better=improve(v)\n",
        "iter+=1\n",
        "while not np.array_equal(policy,better):\n",
        "  policy=better.copy()\n",
        "  value, _ =evaluateip(policy)\n",
        "  better=improve(value)\n",
        "  iter+=1\n",
        "\n",
        "\n",
        "print(iter)\n",
        "v,_=evaluate(better)\n",
        "v"
      ],
      "metadata": {
        "colab": {
          "base_uri": "https://localhost:8080/"
        },
        "id": "mcdfWeIbkMvX",
        "outputId": "7dc06a77-e1e5-437e-c6ba-8c3ac6f938ea"
      },
      "execution_count": null,
      "outputs": [
        {
          "output_type": "stream",
          "name": "stdout",
          "text": [
            "3\n"
          ]
        },
        {
          "output_type": "execute_result",
          "data": {
            "text/plain": [
              "{(0, 0): 0,\n",
              " (0, 1): -1,\n",
              " (0, 2): -2,\n",
              " (0, 3): -3,\n",
              " (1, 0): -1,\n",
              " (1, 1): -2,\n",
              " (1, 2): -3,\n",
              " (1, 3): -2,\n",
              " (2, 0): -2,\n",
              " (2, 1): -3,\n",
              " (2, 2): -2,\n",
              " (2, 3): -1,\n",
              " (3, 0): -3,\n",
              " (3, 1): -2,\n",
              " (3, 2): -1,\n",
              " (3, 3): 0}"
            ]
          },
          "metadata": {},
          "execution_count": 53
        }
      ]
    },
    {
      "cell_type": "markdown",
      "source": [
        "**Value Iteration**\n",
        "      "
      ],
      "metadata": {
        "id": "aZ6bXT-x34B8"
      }
    },
    {
      "cell_type": "markdown",
      "source": [
        "$v_{k+1}$=$max_a$ Σ p(s',r|s,a) (r+$v_{k}$(s'))\n",
        "\n",
        "OR\n",
        "\n",
        "$v_{k+1}$ = $max_a$ Σ p(s'|s,a) (r(s,a,s')+$v_k$(s'))\n",
        "\n",
        "\n"
      ],
      "metadata": {
        "id": "uRph6WXepEax"
      }
    },
    {
      "cell_type": "code",
      "source": [
        "#new World\n",
        "S={'s1','s2'}\n",
        "A={'a1','a2'}\n",
        "p={s:{a:{s_next:0 for s_next in S}for a in A}for s in S}\n",
        "r={s:{a:{s_next:0 for s_next in S}for a in A}for s in S}\n",
        "#define transition prob\n",
        "p['s1']['a1']['s1']=0.8\n",
        "p['s1']['a1']['s2']=0.2\n",
        "p['s1']['a2']['s1']=0.5\n",
        "p['s1']['a2']['s2']=0.5\n",
        "p['s2']['a1']['s1']=0.7\n",
        "p['s2']['a1']['s2']=0.3\n",
        "p['s2']['a2']['s1']=0.4\n",
        "p['s2']['a2']['s2']=0.6\n",
        "#rewards\n",
        "r['s1']['a1']['s1']=4\n",
        "r['s1']['a1']['s2']=4\n",
        "r['s1']['a2']['s1']=6\n",
        "r['s1']['a2']['s2']=6\n",
        "r['s2']['a1']['s1']=-5\n",
        "r['s2']['a1']['s2']=-5\n",
        "r['s2']['a2']['s1']=-3\n",
        "r['s2']['a2']['s2']=-3\n",
        "df=0.9"
      ],
      "metadata": {
        "id": "3HQs9StrrAKm"
      },
      "execution_count": null,
      "outputs": []
    },
    {
      "cell_type": "code",
      "source": [
        "theta=1e-3\n",
        "delta=1\n",
        "iter=0\n",
        "v={s:0 for s in S}\n",
        "while delta>=theta:\n",
        "  delta=0\n",
        "  iter+=1\n",
        "  q={s:{a:0 for a in A}for s in S}\n",
        "  vpres={s:0 for s in S}\n",
        "  for s in S:\n",
        "    for a in A:\n",
        "      for s_next in S:\n",
        "        q[s][a]+=p[s][a][s_next]*(r[s][a][s_next]+df*v[s_next])\n",
        "    vpres[s]=max(q[s][a] for a in A)\n",
        "    delta=max(delta,abs(vpres[s]-v[s]))\n",
        "  v=vpres.copy()\n",
        "\n",
        "print(iter)\n",
        "v\n"
      ],
      "metadata": {
        "colab": {
          "base_uri": "https://localhost:8080/"
        },
        "id": "aJThhl9Cs7bn",
        "outputId": "24dd09d5-dc20-420a-a57c-9343838204f9"
      },
      "execution_count": null,
      "outputs": [
        {
          "output_type": "stream",
          "name": "stdout",
          "text": [
            "73\n"
          ]
        },
        {
          "output_type": "execute_result",
          "data": {
            "text/plain": [
              "{'s1': 22.189681737225307, 's2': 12.299571847115411}"
            ]
          },
          "metadata": {},
          "execution_count": 66
        }
      ]
    },
    {
      "cell_type": "markdown",
      "source": [
        "**MONTE-CARLO METHOD**\n",
        "\n",
        "Using blackjack environment"
      ],
      "metadata": {
        "id": "-lfSB3KuxWAo"
      }
    },
    {
      "cell_type": "code",
      "source": [
        "import sys\n",
        "import gym\n",
        "import numpy as np\n",
        "from collections import defaultdict"
      ],
      "metadata": {
        "id": "GTRHtqInxaYL"
      },
      "execution_count": null,
      "outputs": []
    },
    {
      "cell_type": "code",
      "source": [
        "env=gym.make('Blackjack-v1')"
      ],
      "metadata": {
        "colab": {
          "base_uri": "https://localhost:8080/"
        },
        "id": "ih0nv8zR04rK",
        "outputId": "10afa9a2-6c05-4c7d-9d3f-7f742c205ed8"
      },
      "execution_count": null,
      "outputs": [
        {
          "output_type": "stream",
          "name": "stderr",
          "text": [
            "/usr/local/lib/python3.10/dist-packages/gym/core.py:317: DeprecationWarning: \u001b[33mWARN: Initializing wrapper in old step API which returns one bool instead of two. It is recommended to set `new_step_api=True` to use new step API. This will be the default behaviour in future.\u001b[0m\n",
            "  deprecation(\n",
            "/usr/local/lib/python3.10/dist-packages/gym/wrappers/step_api_compatibility.py:39: DeprecationWarning: \u001b[33mWARN: Initializing environment in old step API which returns one bool instead of two. It is recommended to set `new_step_api=True` to use new step API. This will be the default behaviour in future.\u001b[0m\n",
            "  deprecation(\n"
          ]
        }
      ]
    },
    {
      "cell_type": "markdown",
      "source": [
        "Each state is a 3-tuple of:\n",
        " - the player's current sum ${0, 1, \\ldots, 31}$\n",
        "\n",
        "- the dealer's face up card ${1, \\ldots, 10}$, and\n",
        "\n",
        "- whether or not the player has a usable ace (`no` $=0$, `yes` $=1$)\n",
        "\n",
        "The agent has two potential actions:\n",
        "\n",
        "STICK=0\n",
        "\n",
        "HIT=1"
      ],
      "metadata": {
        "id": "dau_zz8l1PCQ"
      }
    },
    {
      "cell_type": "code",
      "source": [
        "def generate_episode(envi):\n",
        "  episode=[]\n",
        "  state=envi.reset()\n",
        "  while True:\n",
        "    prob=[0.8,0.2] if state[0]>18 else [0.2,0.8]\n",
        "    action = np.random.choice(np.arange(2), p=prob)\n",
        "    next_state,reward,done,info=envi.step(action)\n",
        "    episode.append((state,action,reward))\n",
        "\n",
        "    state=next_state\n",
        "    if done:\n",
        "      break\n",
        "  return episode\n",
        "for i in range(5):\n",
        "  print(generate_episode(env))\n"
      ],
      "metadata": {
        "colab": {
          "base_uri": "https://localhost:8080/"
        },
        "id": "cSGD-7RR1B-t",
        "outputId": "f5ffa044-24ca-4d1a-fdab-a5a1c82b4fee"
      },
      "execution_count": null,
      "outputs": [
        {
          "output_type": "stream",
          "name": "stdout",
          "text": [
            "[((19, 8, True), 0, 1.0)]\n",
            "[((13, 10, False), 1, 0.0), ((19, 10, False), 0, 1.0)]\n",
            "[((16, 10, False), 1, 0.0), ((20, 10, False), 0, 1.0)]\n",
            "[((20, 7, False), 0, 1.0)]\n",
            "[((15, 5, True), 1, 0.0), ((16, 5, True), 1, 0.0), ((21, 5, True), 0, 1.0)]\n"
          ]
        },
        {
          "output_type": "stream",
          "name": "stderr",
          "text": [
            "/usr/local/lib/python3.10/dist-packages/gym/utils/passive_env_checker.py:241: DeprecationWarning: `np.bool8` is a deprecated alias for `np.bool_`.  (Deprecated NumPy 1.24)\n",
            "  if not isinstance(terminated, (bool, np.bool8)):\n"
          ]
        }
      ]
    },
    {
      "cell_type": "code",
      "source": [
        "def evmc_predn(env,num_episodes,df=0.9):\n",
        "    #this stores the net return in the evmc prediction for the state action pair\n",
        "    returns= defaultdict(lambda: np.zeros(env.action_space.n))\n",
        "    # A nested dictionary that maps state to (action to action-value).\n",
        "    Q = defaultdict(lambda: np.zeros(env.action_space.n))\n",
        "    # A nested dictionary that maps state to (action to number of times state-action pair was encountered).\n",
        "    N = defaultdict(lambda: np.zeros(env.action_space.n))\n",
        "    for i in range(1,num_episodes+1):\n",
        "      episode=generate_episode(env)\n",
        "      visited_states={}\n",
        "      states, actions, rewards = zip(*episode)\n",
        "      discount=np.array([df**i for i in range(len(rewards)+1)])\n",
        "      for j,state in enumerate(states):\n",
        "        # return from all episodes upto this is sum of returns of each individual episode\n",
        "        #return of each individual episode can be taken as for ith state action pair sum of reward*(df^(j-i))\n",
        "        returns[state][actions[j]]+=sum(rewards[j:]*discount[:len(rewards)-j])\n",
        "        N[state][actions[j]]+=1.0\n",
        "        Q[state][actions[j]]=returns[state][actions[j]]/N[state][actions[j]]\n",
        "    return Q\n",
        "\n",
        "def fvmc_predn(env,num_episodes,df=0.9):\n",
        "    #this stores the net return in the fvmc prediction for the state action pair\n",
        "    returns= defaultdict(lambda: np.zeros(env.action_space.n))\n",
        "    #creates a defaultdict object that maps states to action-values.\n",
        "    #The default value for each state is a numpy array of zeros, with a length equal to the number of actions in the environment.\n",
        "    # A nested dictionary that maps state to (action to action-value).\n",
        "    Q = defaultdict(lambda: np.zeros(env.action_space.n))\n",
        "    # A nested dictionary that maps state to (action to number of times state-action pair was encountered).\n",
        "    N = defaultdict(lambda: np.zeros(env.action_space.n))\n",
        "    for i in range(1,num_episodes+1):\n",
        "      episode=generate_episode(env)\n",
        "      visited_states={}#it is re-initalized before each episode\n",
        "      states, actions, rewards = zip(*episode)\n",
        "      discount=np.array([df**i for i in range(len(rewards)+1)])\n",
        "      for j,state in enumerate(states):\n",
        "        # return from all episodes upto this is sum of returns of each individual episode\n",
        "        #return of each individual episode can be taken as for ith state action pair sum of reward*(df^(j-i))\n",
        "        if state not in visited_states:\n",
        "          returns[state][actions[j]]+=sum(rewards[j:]*discount[:len(rewards)-(j)])\n",
        "          N[state][actions[j]]+=1.0\n",
        "          Q[state][actions[j]]=returns[state][actions[j]]/N[state][actions[j]]\n",
        "          #once visited then it is not visited again\n",
        "          visited_states.add(state)\n",
        "    return Q\n",
        "#This is the action-value function\n",
        "Q=evmc_predn(env,5)\n",
        "print(Q)\n"
      ],
      "metadata": {
        "colab": {
          "base_uri": "https://localhost:8080/"
        },
        "id": "7o7q5YcM6hh5",
        "outputId": "a0b1c130-e89f-4a75-e1b0-344d360c3131"
      },
      "execution_count": null,
      "outputs": [
        {
          "output_type": "stream",
          "name": "stdout",
          "text": [
            "defaultdict(<function evmc_predn.<locals>.<lambda> at 0x7afc0790be20>, {(16, 7, False): array([ 0., -1.]), (16, 10, False): array([ 0., -1.]), (10, 3, False): array([0. , 0.9]), (20, 3, False): array([1., 0.]), (18, 8, True): array([ 0.  , -0.81]), (18, 8, False): array([ 0. , -0.9]), (20, 8, False): array([ 0., -1.]), (10, 2, False): array([ 0. , -0.9]), (20, 2, False): array([-1.,  0.])})\n"
          ]
        },
        {
          "output_type": "stream",
          "name": "stderr",
          "text": [
            "/usr/local/lib/python3.10/dist-packages/ipykernel/ipkernel.py:283: DeprecationWarning: `should_run_async` will not call `transform_cell` automatically in the future. Please pass the result to `transformed_cell` argument and any exception that happen during thetransform in `preprocessing_exc_tuple` in IPython 7.17 and above.\n",
            "  and should_run_async(code)\n"
          ]
        }
      ]
    },
    {
      "cell_type": "code",
      "source": [
        "#generating state value function from Q[s][a]\n",
        "V=defaultdict(lambda:0)\n",
        "for k,v in Q.items():\n",
        "  x=0\n",
        "  if(k[0]>18):\n",
        "   V[k]=np.dot([0.8,0.2],v)#V[s]=0.8*Q[s][a1]+0.2*Q[s][a2]\n",
        "  else:\n",
        "    V[k]=np.dot([0.2,0.8],v)#V[s]=0.2*Q[s][a1]+0.8*Q[s][a2]\n",
        "\n",
        "print(V)\n"
      ],
      "metadata": {
        "colab": {
          "base_uri": "https://localhost:8080/"
        },
        "id": "uPrZjgMDdm1n",
        "outputId": "3b399b3b-7db2-4f90-a06a-b2c6bea0aef6"
      },
      "execution_count": null,
      "outputs": [
        {
          "output_type": "stream",
          "name": "stdout",
          "text": [
            "defaultdict(<function <lambda> at 0x7afc076cd1b0>, {(16, 7, False): -0.8, (16, 10, False): -0.8, (10, 3, False): 0.7200000000000001, (20, 3, False): 0.8, (18, 8, True): -0.6480000000000001, (18, 8, False): -0.7200000000000001, (20, 8, False): -0.2, (10, 2, False): -0.7200000000000001, (20, 2, False): -0.8})\n"
          ]
        }
      ]
    },
    {
      "cell_type": "markdown",
      "source": [
        "**TEMPORAL DIFFERENCE LEARNING**\n",
        "\n",
        "This works on the logic that the value of a state at time t+1 is more accurate than at time t.\n",
        "\n",
        "$V_{k+1}$($s_t$)=$V_k$($s_t$)+α*[$r_{t+1}$+df*$V_k$($s_{t+1}$)-$V_k$($s_t$)]\n",
        "\n",
        "Value at time t+1 is r(t+1)+df*V(s(t+1))\n",
        "\n",
        "Monte Carlo Prediction goes all the way to the end of an episode\n",
        "\n",
        "Dynamic Programming and Temporal difference algorithms are one step look-ahead algorithms\n",
        "\n",
        "Monte Carlo and Temporal Differenec can result in different values for finite nummber of episodes\n",
        "\n",
        "MC gives the Least Square error Estimate\n",
        "\n",
        "TD gives the Certainity Equivalence Estimate\n",
        "\n",
        "The basic principle of Temporal Difference lerning is used in a wide variety of algorithms like SARSA,Q-learning,TD(λ) .Even Monte Carlo can be visualized as an infinite step TD(λ) approoach where the λ=1 .\n",
        "\n",
        "**SARSA-State Action Reward Next State Next action**\n",
        "\n",
        "It uses a TD(0) type algorithm but here the Q value is what is updated.It is an On-policy TD algorithm.That is it follows the policy and does updation in Q value based on $a_t$ and $a_{t+1}$.\n",
        "\n",
        "Q($s_t$,$a_t$)=Q($s_t$,$a_t$)+ α($r_{t+1}$ + γ. Q($s_{t+1}$,$a_{t+1}$)-Q($s_t$,$a_t$))\n",
        "\n"
      ],
      "metadata": {
        "id": "3j6OwwxIcpcH"
      }
    },
    {
      "cell_type": "code",
      "source": [
        "import numpy as np\n",
        "import matplotlib.pyplot as plt\n",
        "import gym"
      ],
      "metadata": {
        "id": "JeJamnSEnT6U"
      },
      "execution_count": null,
      "outputs": []
    },
    {
      "cell_type": "code",
      "source": [
        "#Using the Cart-pole environmment\n",
        "#first since we are using SARSA we have to discretize the space\n",
        "poleThetaSpace = np.linspace(-0.21,0.21,10)\n",
        "poleVelSpace=np.linspace(-4,4,10)\n",
        "cartPosSpace=np.linspace(-2.4,2.4,10)\n",
        "cartVelSpace = np.linspace(-4,4,10)\n",
        "\n",
        "#np.digitize() is used to assign index for each interval created using linspace and return whihc interval this number belongs to\n",
        "def getState(obs):\n",
        "  cartPos,cartVel,poleTheta,poleVel=obs\n",
        "  cartVel=int(np.digitize(cartVel,cartVelSpace))\n",
        "  cartPos=int(np.digitize(cartPos,cartPosSpace))\n",
        "  poleTheta=int(np.digitize(poleTheta,poleThetaSpace))\n",
        "  poleVel=int(np.digitize(poleVel,poleVelSpace))\n",
        "  return (cartPos,cartVel,poleTheta,poleVel)\n",
        "\n",
        "#maximum action extraction function\n",
        "def maxAction(Q,s):\n",
        "  values=np.array([Q[s,a]for a in range(2)])\n",
        "  action=np.argmax(values)\n",
        "  return action\n",
        "\n",
        "#Create environment\n",
        "env=gym.make('CartPole-v1')\n",
        "#Model hyper-parameters\n",
        "Alpha=0.1\n",
        "Gamma=1.0\n",
        "Eps=1.0\n",
        "#Constructing the state-space\n",
        "states=[]\n",
        "for i in range(len(cartPosSpace)+1):\n",
        "  for j in range(len(cartVelSpace)+1):\n",
        "    for k in range(len(poleThetaSpace)+1):\n",
        "      for l in range(len(poleVelSpace)+1):\n",
        "        states.append((i,j,k,l))\n",
        "\n",
        "Q={}\n",
        "\n",
        "for s in states:\n",
        "  for a in range(2):#left-0 and right-1\n",
        "    Q[s,a]=0\n",
        "\n",
        "numGames=5000\n",
        "totRewards=np.zeros(numGames)\n",
        "for i in range(numGames):\n",
        "  done=False\n",
        "  epRewards= 0\n",
        "  obs=env.reset()\n",
        "  while not done:\n",
        "    s=getState(obs)\n",
        "    rand=np.random.random()\n",
        "    a=maxAction(Q,s) if rand < (1-Eps) else env.action_space.sample()#Following an epsilon- greedy Policy since this is a model-free method\n",
        "    nextobs,reward,done,info=env.step(a)\n",
        "    epRewards+=reward\n",
        "    snext=getState(nextobs)\n",
        "    rand=np.random.random()\n",
        "    anext=maxAction(Q,snext) if rand < (1-Eps) else env.action_space.sample()#Following an epsilon- greedy Policy since this is a model-free method\n",
        "    Q[s,a]=Q[s,a]+Alpha*(reward+Gamma*Q[snext,anext]-Q[s,a])\n",
        "    obs=nextobs\n",
        "  Eps-=2/(numGames) if Eps>0 else 0  #decreasing the epsilon value since after each iiteration the amount to be explored decreases significantly\n",
        "  totRewards[i]=epRewards\n",
        "plt.plot(totRewards)\n",
        "\n"
      ],
      "metadata": {
        "colab": {
          "base_uri": "https://localhost:8080/",
          "height": 447
        },
        "id": "qoqaH22FopHj",
        "outputId": "9308644e-c35a-4628-9a82-bf447f85db04"
      },
      "execution_count": null,
      "outputs": [
        {
          "output_type": "execute_result",
          "data": {
            "text/plain": [
              "[<matplotlib.lines.Line2D at 0x7eacff5dcd90>]"
            ]
          },
          "metadata": {},
          "execution_count": 12
        },
        {
          "output_type": "display_data",
          "data": {
            "text/plain": [
              "<Figure size 640x480 with 1 Axes>"
            ],
            "image/png": "[encoded data removed]"
          },
          "metadata": {}
        }
      ]
    },
    {
      "cell_type": "markdown",
      "source": [
        "**Q-learning**\n",
        "\n",
        "It is a TD(0) type algorihtm but here it goes off policy that is follows action $a_t$ and when it reaches the next state it then selects the optimum Q-value. So it deviates from the policy . Now Q-learning is more optimum but it assumes we go through the optimum path SARSA onn the other hand assumes we are mmaking some exporation as we are walking through a path. This is why SARSA accounts for the risk due to exploration in it and is more optimum for Cliff-Walking type high pain states.\n",
        "\n",
        "Q($s_t$,$a_t$)=Q($s_t$,$a_t$)+ α($r_{t+1}$ + γ. $max_a$Q($s_{t+1}$,a)-Q($s_t$,$a_t$))\n",
        "\n",
        "\n",
        "**N-Step TD approach and TD(λ)**\n",
        "\n"
      ],
      "metadata": {
        "id": "NBmZFgOGnRBi"
      }
    },
    {
      "cell_type": "markdown",
      "source": [
        "**MAXIMIZATION BIAS**\n",
        "\n",
        "Maximization bias arises because in Q-learning we assume that oncce it reaches the next state we take the action with the highest Q-value .This can be very diff from the actual value.\n",
        "\n",
        "This also arises in SARSA because once it reaches the next state we proceed using an ϵ-greedy algorithm .Smaller the ϵ more is the maximization bias"
      ],
      "metadata": {
        "id": "qwbQMAYA9fbU"
      }
    },
    {
      "cell_type": "markdown",
      "source": [
        "**DOUBLE Q-LEARNING**\n",
        "\n",
        " Double Q-learning is a method to decrease the  maximization bias generated due to Q-learning.In this method we take half the number of samples to find the maximum action possible  and the other half of the samples to determine the value at the maximum action.\n",
        "\n",
        " This decreases the  error due to maximization bias significantly.\n",
        "\n",
        " Q1(s,a)=Q1(s,a)+α.(R+γ.Q2(s',$max_a$ (Q1(s',a)))-Q1(s,a))\n",
        "\n",
        "  Q2(s,a)=Q2(s,a)+α.(R+γ.Q1(s',$max_a$ (Q2(s',a)))-Q2(s,a))"
      ],
      "metadata": {
        "id": "bwCOqA58-Gwx"
      }
    },
    {
      "cell_type": "code",
      "source": [
        "import numpy as np\n",
        "import matplotlib.pyplot as plt\n",
        "import gym"
      ],
      "metadata": {
        "id": "87Uhznk_9fHu"
      },
      "execution_count": null,
      "outputs": []
    },
    {
      "cell_type": "code",
      "source": [
        "#Using the Cart-pole environmment\n",
        "#first since we are using Q-learning we have to discretize the space\n",
        "poleThetaSpace = np.linspace(-0.21,0.21,10)\n",
        "poleVelSpace=np.linspace(-4,4,10)\n",
        "cartPosSpace=np.linspace(-2.4,2.4,10)\n",
        "cartVelSpace = np.linspace(-4,4,10)\n",
        "\n",
        "#np.digitize() is used to assign index for each interval created using linspace and return whihc interval this number belongs to\n",
        "def getState(obs):\n",
        "  cartPos,cartVel,poleTheta,poleVel=obs\n",
        "  cartVel=int(np.digitize(cartVel,cartVelSpace))\n",
        "  cartPos=int(np.digitize(cartPos,cartPosSpace))\n",
        "  poleTheta=int(np.digitize(poleTheta,poleThetaSpace))\n",
        "  poleVel=int(np.digitize(poleVel,poleVelSpace))\n",
        "  return (cartPos,cartVel,poleTheta,poleVel)\n",
        "\n",
        "#maximum action extraction function\n",
        "def maxAction(Q1,Q2,s):\n",
        "  values=np.array([Q1[s,a]+Q2[s,a]for a in range(2)])\n",
        "  action=np.argmax(values)\n",
        "  return action\n",
        "\n",
        "#Create environment\n",
        "env=gym.make('CartPole-v1')\n",
        "#Model hyper-parameters\n",
        "Alpha=0.1\n",
        "Gamma=1.0\n",
        "Eps=1.0\n",
        "#Constructing the state-space\n",
        "states=[]\n",
        "for i in range(len(cartPosSpace)+1):\n",
        "  for j in range(len(cartVelSpace)+1):\n",
        "    for k in range(len(poleThetaSpace)+1):\n",
        "      for l in range(len(poleVelSpace)+1):\n",
        "        states.append((i,j,k,l))\n",
        "\n",
        "Q1,Q2={},{}\n",
        "\n",
        "for s in states:\n",
        "  for a in range(2):#left-0 and right-1\n",
        "    Q1[s,a]=0\n",
        "    Q2[s,a]=0\n",
        "\n",
        "numGames=5000\n",
        "totRewards=np.zeros(numGames)\n",
        "for i in range(numGames):\n",
        "  done=False\n",
        "  epRewards= 0\n",
        "  obs=env.reset()\n",
        "  while not done:\n",
        "    s=getState(obs)\n",
        "    rand=np.random.random()\n",
        "    a=maxAction(Q1,Q2,s) if rand < (1-Eps) else env.action_space.sample()#Following an epsilon- greedy Policy since this is a model-free method\n",
        "    nextobs,reward,done,info=env.step(a)\n",
        "    epRewards+=reward\n",
        "    snext=getState(nextobs)\n",
        "    rand=np.random.random()\n",
        "    if rand <=0.5:\n",
        "      anext= maxAction(Q1,Q1,s)\n",
        "      Q1[s,a]=Q1[s,a]+Alpha*(reward+Gamma*Q2[snext,anext]-Q1[s,a])#so while updating Q value how we proceed is we find best action to be taken for Q1 and find the corresponding Q2 for it\n",
        "    else:\n",
        "      anext= maxAction(Q2,Q2,s)\n",
        "      Q2[s,a]=Q2[s,a]+Alpha*(reward+Gamma*Q1[snext,anext]-Q2[s,a])\n",
        "    obs=nextobs\n",
        "  Eps-=2/(numGames) if Eps>0 else 0  #decreasing the epsilon value since after each iiteration the amount to be explored decreases significantly\n",
        "  totRewards[i]=epRewards\n",
        "plt.plot(totRewards)\n",
        "\n"
      ],
      "metadata": {
        "colab": {
          "base_uri": "https://localhost:8080/",
          "height": 450
        },
        "id": "Qy6dT2FXUk08",
        "outputId": "0c1a9136-38a6-455c-fff1-72279d5fb1fa"
      },
      "execution_count": null,
      "outputs": [
        {
          "output_type": "execute_result",
          "data": {
            "text/plain": [
              "[<matplotlib.lines.Line2D at 0x7ead008b24a0>]"
            ]
          },
          "metadata": {},
          "execution_count": 13
        },
        {
          "output_type": "display_data",
          "data": {
            "text/plain": [
              "<Figure size 640x480 with 1 Axes>"
            ],
            "image/png": "[encoded data removed]"
          },
          "metadata": {}
        }
      ]
    },
    {
      "cell_type": "markdown",
      "source": [
        "**DEEP Q-LEARNING**\n",
        "\n",
        "-Implementing neural networks to get a relation between the reawrd and state-action pairs using function approximation.\n",
        "\n",
        " Q-Learning in its simplest form uses a table (Q-table) to represent state-actionvalues, i.e.Q-Values. The problem,however, becomes intractable as the number of states and\n",
        " actions increases . In general terms, the Q-value\n",
        " function can be estimated by function approximation. Since Neural Networks act\n",
        " as universal function approximators, they provide an\n",
        " excellent framework for Q-value estimation. Indeed, recent\n",
        " advances in Neural Networks applied to Q-learning have shown them to\n",
        " greatly outperform traditional RLmethods.The\n",
        " processof learning Q-value estimations is as follows:a teach\n",
        " iteration step i,approximated Q-values Q(sa; $𝜃_i$) are trained\n",
        " by Stochastic Gradient Descent,by minimizing the loss L( $𝜃_i$).\n"
      ],
      "metadata": {
        "id": "ns0zYylpqVEA"
      }
    },
    {
      "cell_type": "code",
      "source": [
        "import gym\n",
        "import numpy as np\n",
        "import torch as T\n",
        "import torch.nn as nn\n",
        "import torch.optim as optim\n",
        "import torch.nn.functional as F\n",
        "import matplotlib.pyplot as plt"
      ],
      "metadata": {
        "id": "Sr0r_JAjqkIx"
      },
      "execution_count": null,
      "outputs": []
    },
    {
      "cell_type": "code",
      "source": [
        "pip install swig\n"
      ],
      "metadata": {
        "colab": {
          "base_uri": "https://localhost:8080/"
        },
        "id": "peaLK1Mp69I8",
        "outputId": "94c4ced9-1689-455c-e6c6-f9cf40e761b2"
      },
      "execution_count": null,
      "outputs": [
        {
          "output_type": "stream",
          "name": "stdout",
          "text": [
            "Collecting swig\n",
            "  Downloading swig-4.2.1-py2.py3-none-manylinux_2_5_x86_64.manylinux1_x86_64.whl (1.9 MB)\n",
            "\u001b[2K     \u001b[90m━━━━━━━━━━━━━━━━━━━━━━━━━━━━━━━━━━━━━━━━\u001b[0m \u001b[32m1.9/1.9 MB\u001b[0m \u001b[31m9.2 MB/s\u001b[0m eta \u001b[36m0:00:00\u001b[0m\n",
            "\u001b[?25hInstalling collected packages: swig\n",
            "Successfully installed swig-4.2.1\n"
          ]
        }
      ]
    },
    {
      "cell_type": "code",
      "source": [
        "pip install Box2D"
      ],
      "metadata": {
        "colab": {
          "base_uri": "https://localhost:8080/"
        },
        "id": "BxoJN0U27lNK",
        "outputId": "a8f9bd54-7655-4fb2-d940-c88fc0e88d0a"
      },
      "execution_count": null,
      "outputs": [
        {
          "output_type": "stream",
          "name": "stdout",
          "text": [
            "Collecting Box2D\n",
            "  Downloading Box2D-2.3.2.tar.gz (427 kB)\n",
            "\u001b[2K     \u001b[90m━━━━━━━━━━━━━━━━━━━━━━━━━━━━━━━━━━━━━━━━\u001b[0m \u001b[32m427.9/427.9 kB\u001b[0m \u001b[31m4.2 MB/s\u001b[0m eta \u001b[36m0:00:00\u001b[0m\n",
            "\u001b[?25h  Preparing metadata (setup.py) ... \u001b[?25l\u001b[?25hdone\n",
            "Building wheels for collected packages: Box2D\n",
            "  Building wheel for Box2D (setup.py) ... \u001b[?25l\u001b[?25hdone\n",
            "  Created wheel for Box2D: filename=Box2D-2.3.2-cp310-cp310-linux_x86_64.whl size=2394371 sha256=4ddd2a4fbbcad0fac6add6864cef3206034eaa17ab48bed73d9ab0c70ad9eb81\n",
            "  Stored in directory: /root/.cache/pip/wheels/eb/cb/be/e663f3ce9aba6580611c0febaf7cd3cf7603f87047de2a52f9\n",
            "Successfully built Box2D\n",
            "Installing collected packages: Box2D\n",
            "Successfully installed Box2D-2.3.2\n"
          ]
        }
      ]
    },
    {
      "cell_type": "code",
      "source": [
        "pip install Box2d-kengz"
      ],
      "metadata": {
        "colab": {
          "base_uri": "https://localhost:8080/"
        },
        "id": "G339CoIu8RMQ",
        "outputId": "628d6298-e65f-4919-8905-74709aed7c84"
      },
      "execution_count": null,
      "outputs": [
        {
          "output_type": "stream",
          "name": "stdout",
          "text": [
            "Collecting Box2d-kengz\n",
            "  Downloading Box2D-kengz-2.3.3.tar.gz (425 kB)\n",
            "\u001b[2K     \u001b[90m━━━━━━━━━━━━━━━━━━━━━━━━━━━━━━━━━━━━━━━━\u001b[0m \u001b[32m425.4/425.4 kB\u001b[0m \u001b[31m7.0 MB/s\u001b[0m eta \u001b[36m0:00:00\u001b[0m\n",
            "\u001b[?25h  Preparing metadata (setup.py) ... \u001b[?25l\u001b[?25hdone\n",
            "Building wheels for collected packages: Box2d-kengz\n",
            "  Building wheel for Box2d-kengz (setup.py) ... \u001b[?25l\u001b[?25hdone\n",
            "  Created wheel for Box2d-kengz: filename=Box2D_kengz-2.3.3-cp310-cp310-linux_x86_64.whl size=2394326 sha256=49ec3c548fad1a93dcfca86438ea1d3decd61d0e563c8c7f4e89be43d9133030\n",
            "  Stored in directory: /root/.cache/pip/wheels/ab/a3/5f/6396406aa0163da86c2a8d28304a120b55cfa98363654d853b\n",
            "Successfully built Box2d-kengz\n",
            "Installing collected packages: Box2d-kengz\n",
            "Successfully installed Box2d-kengz-2.3.3\n"
          ]
        }
      ]
    },
    {
      "cell_type": "code",
      "source": [
        "class LinearDQN(nn.Module):\n",
        "  def __init__(self, lr, n_actions, input_dims):\n",
        "    super(LinearDQN, self).__init__()#instantiate our nn.Module\n",
        "    self.fc1= nn.Linear(*input_dims, 128)#  the first layer in our DQN with 128 hidden dimensions\n",
        "    self.fc2 = nn.Linear(128, n_actions)#the second layer in our DQN\n",
        "\n",
        "    self.optimizer=optim.Adam(self.parameters(), lr=lr)#ADAM optimizer\n",
        "    self.loss = nn.MSELoss()#Mean square error loss\n",
        "    self.device = T.device('cpu')\n",
        "    self.to(self.device)\n",
        "  def forward(self,state):\n",
        "    layer1=F.relu(self.fc1(state))\n",
        "    actions=self.fc2(layer1)\n",
        "    return actions\n",
        "\n",
        "class Agent():\n",
        "  def __init__(self,input_dims,n_actions,lr,gamma=1.0,epsilon=0.01,eps_dec=1e-4,eps_min=0.00001):\n",
        "    self.lr  = lr\n",
        "    self.input_dims = input_dims\n",
        "    self.n_actions = n_actions\n",
        "    self.gamma = gamma\n",
        "    self.epsilon = epsilon\n",
        "    self.eps_dec = eps_dec\n",
        "    self.eps_min = eps_min\n",
        "    self.action_space=[i for i in range(self.n_actions)]\n",
        "\n",
        "    self.Q = LinearDQN(self.lr,self.n_actions,self.input_dims)\n",
        "  def choose_action(self,obs):#choosing an action epsilon-greedily\n",
        "    if np.random.random() > self.epsilon:\n",
        "      state = T.tensor(obs,dtype=T.float).to(self.Q.device)\n",
        "      actions=self.Q.forward(state)\n",
        "      action=T.argmax(actions).item()\n",
        "    else:\n",
        "      action = np.random.choice(self.action_space)\n",
        "    return action\n",
        "  def decrement_epsilon(self):#decrementing the epsilon value  after each episode\n",
        "    self.epsilon =self.epsilon-self.eps_dec if self.epsilon >self.eps_min else self.eps_min\n",
        "  def learn(self,state,action, reward, state_):\n",
        "    self.Q.optimizer.zero_grad()\n",
        "    states = T.tensor(state,dtype=T.float).to(self.Q.device)\n",
        "    actions = T.tensor(action).to(self.Q.device)\n",
        "    rewards = T.tensor(reward).to(self.Q.device)\n",
        "    states_ = T.tensor(state_,dtype=T.float).to(self.Q.device)\n",
        "\n",
        "    q_pred=self.Q.forward(states)[actions]\n",
        "\n",
        "    q_next=self.Q.forward(states_).max()\n",
        "\n",
        "    q_target= reward + self.gamma*q_next\n",
        "\n",
        "    loss= self.Q.loss(q_target, q_pred).to(self.Q.device)\n",
        "    loss.backward()\n",
        "    self.Q.optimizer.step()\n",
        "    self.decrement_epsilon()\n",
        "if __name__=='__main__':\n",
        "  env=gym.make('LunarLander-v2')\n",
        "  n_games=500\n",
        "  avg_score=[]\n",
        "  scores=[]\n",
        "  eps_history = []\n",
        "  agent=Agent(input_dims=env.observation_space.shape,\n",
        "              n_actions=env.action_space.n,\n",
        "              lr=0.00001)\n",
        "  for  i in range(n_games):\n",
        "    done=False\n",
        "    score=0\n",
        "    obs=env.reset()\n",
        "    while not done:\n",
        "      action = agent.choose_action(obs)\n",
        "      obs_,reward,done,info = env.step(action)\n",
        "      score += reward\n",
        "      agent.learn(obs, action, reward, obs_)\n",
        "      obs=obs_\n",
        "    eps_history.append(agent.epsilon)\n",
        "    scores.append(score)\n",
        "plt.plot(scores)"
      ],
      "metadata": {
        "colab": {
          "base_uri": "https://localhost:8080/",
          "height": 447
        },
        "id": "vsFaZ2YWr42D",
        "outputId": "004d27e7-7276-4c87-93d4-00ec80a960ae"
      },
      "execution_count": null,
      "outputs": [
        {
          "output_type": "execute_result",
          "data": {
            "text/plain": [
              "[<matplotlib.lines.Line2D at 0x7b26a0113130>]"
            ]
          },
          "metadata": {},
          "execution_count": 8
        },
        {
          "output_type": "display_data",
          "data": {
            "text/plain": [
              "<Figure size 640x480 with 1 Axes>"
            ],
            "image/png": "[encoded data removed]"
          },
          "metadata": {}
        }
      ]
    },
    {
      "cell_type": "markdown",
      "source": [
        "**Policy Search Algorithms**\n",
        "\n",
        "In the setting of function approximation policy  search methods are much better\n",
        "than value functions.\n",
        "Similarly when action is continuous it is better to evaluate via policy gradient algorithms. If we evaluate with Value based algorithms we will have to discretize it as bins.\n",
        "\n",
        "Reason:\n",
        " 1. Simpler description\n",
        " 2. Better Convergence\n",
        " 3. When state is not fully observable(state may contain a lot  of variables)\n",
        "\n",
        "Two classes of Policy Search Algorithms:\n",
        "  1. Direct Policy Searcch(via Genetic Algorithms)\n",
        "  2. Policy Gradient Algorithms\n",
        "\n",
        "\n"
      ],
      "metadata": {
        "id": "RGmw9-8bcox6"
      }
    },
    {
      "cell_type": "markdown",
      "source": [
        "**POLICY GRADIENT ALGORITHMS**\n",
        "\n",
        "Policy depends on some policy parameters(θ).In this method instead of modifying action values we modify these policy parameters.\n",
        "\n",
        "Maximize J(θ)=E($r_t$)\n",
        "Done by Gradient ascent\n",
        "\n",
        "**θ=θ+α.∇J(θ)**\n",
        "\n",
        "  J(θ)=$Σ_a$ $π_θ$(a).$q_*$(a)     where $q_*$(a) is the true reward   \n",
        "\n",
        "\n",
        "\n",
        "  ∇J(θ)=$Σ_a$ $q_*$(a). $π_θ$(a) . (∇$π_θ$(a)/$π_θ$(a))\n",
        "\n",
        "where (∇$π_θ$(a)/$π_θ$(a)) is the  likelihood ratio\n",
        "\n",
        "now since we dont know $q_*$(a) we can approximate:\n",
        "\n",
        " J(θ)=E($r_t$)=$Σ^N$$r_i$/N\n",
        "\n",
        " ∇J(θ)=$Σ^N$$r_i$. (∇$π_θ$($a_i$)/$π_θ$($a_i$))/N\n",
        "\n",
        "\n",
        "\n",
        "\n",
        "\n",
        "\n"
      ],
      "metadata": {
        "id": "_1-Vjy7UyXlT"
      }
    },
    {
      "cell_type": "markdown",
      "source": [],
      "metadata": {
        "id": "3G_Zz80w3tbp"
      }
    },
    {
      "cell_type": "markdown",
      "source": [
        "**REINFORCE**\n",
        "\n",
        "Instead of Sampling and finding the expected value of the return we can proceed with any action and still reach convergence\n",
        "\n",
        "𝚫$θ_t$=α.$r_t$.(∇$π_θ$($a_t$)/$π_θ$($a_t$))\n",
        "\n",
        "𝚫$θ_t$=α.$r_t$.∂(ln($π_θ$($a_t$)))/∂θ\n",
        "\n",
        "With Baseline\n",
        "\n",
        "𝚫$θ_t$=α.($r_t$-$b_t$).∂(ln($π_θ$($a_t$)))/∂θ\n",
        "\n",
        "\n",
        "∂(ln($π_θ$($a_t$)))/∂θ is the characteristic eligibility\n"
      ],
      "metadata": {
        "id": "dNrv0Ycg4HnE"
      }
    },
    {
      "cell_type": "markdown",
      "source": [
        "**POLICY GRADIENT THEOREM**\n",
        "\n",
        "\n",
        "**∇J(θ) ∝ $𝚺_s$μ(s).$𝚺_a$ $q_π$($s$,a).∇ π(a|$s$)**\n",
        "\n",
        "In an episodic case assuming we always start with state $s_0$\n",
        "\n",
        "\n",
        "J(θ)=$v_π$($s_0$)\n",
        "\n",
        "∇J(θ)=∇ (Σ $q_π$($s_0$,a).π(a|$s_0$))= Σ∇π(a|$s_0$).$q_π$($s_0$,a) +Σπ(a|$s_0$).∇$q_π$($s_0$,a)\n",
        "\n",
        "= Σ∇π(a|$s_0$).$q_π$($s_0$,a) +Σπ(a|$s_0$).Σp(s|$s_0$,a)∇$v_π$(s)\n",
        "\n",
        "=$𝚺_s$ $𝚺_k$ (prob($s_0$->s,k,π)).$𝚺_a$ $q_π$($s$,a).∇ π(a|$s$)        \n",
        "\n",
        "$𝚺_k$ (prob($s_0$->s,k,π))=η(s) prob.to reach state s from s0 in any number of steps\n",
        "\n",
        "∇J(θ)=$𝚺_s$η(s).$𝚺_a$ $q_π$($s$,a).∇ π(a|$s$)\n",
        "=$Σ_s'$η(s').$𝚺_s$η(s)/($Σ_s'$η(s')).$𝚺_a$ $q_π$($s$,a).∇ π(a|$s$)\n",
        "\n",
        "∇J(θ) ∝ $𝚺_s$η(s)/($Σ_s'$η(s')).$𝚺_a$ $q_π$($s$,a). ∇ π(a|$s$)\n",
        "\n",
        "**∇J(θ) ∝ $𝚺_s$μ(s).$𝚺_a$ $q_π$($s$,a).∇ π(a|$s$)**\n",
        "\n",
        "μ(s)->relative amount of time spent in state s\n"
      ],
      "metadata": {
        "id": "M0gD0KR-hRf_"
      }
    },
    {
      "cell_type": "markdown",
      "source": [
        "**ACTOR CRITIC ALGORITHMS**\n",
        "\n",
        "Hybrid approach containing value-based and policy based approaches integrated into one.\n",
        "\n",
        "Actor: The actor makes decisions by selecting actions based on the current policy. Its responsibility lies in exploring the action space to maximize expected cumulative rewards. By continuously refining the policy, the actor adapts to the dynamic nature of the environment.\n",
        "\n",
        "Critic: The critic evaluates the actions taken by the actor. It estimates the value or quality of these actions by providing feedback on their performance. The critic’s role is pivotal in guiding the actor towards actions that lead to higher expected returns, contributing to the overall improvement of the learning process."
      ],
      "metadata": {
        "id": "bnuzuKO_ea8E"
      }
    },
    {
      "cell_type": "code",
      "source": [
        "import scipy\n",
        "import numpy as np\n",
        "import random\n",
        "import torch\n",
        "import torch.nn as nn\n",
        "import torch.nn.functional as F\n",
        "from collections import namedtuple, deque\n",
        "import torch.optim as optim\n",
        "import matplotlib.pyplot as plt\n",
        "import tensorflow as tf\n",
        "import tensorflow_probability as tfp\n",
        "class ActorCriticModel(tf.keras.Model):#using same network to implement both actor and critic networks\n",
        "    def __init__(self, action_size, n_hidden1=1024, n_hidden2=512):\n",
        "        super(ActorCriticModel, self).__init__()#instantiate the tf.keras.Model\n",
        "\n",
        "        #Hidden Layer 1\n",
        "        self.fc1 = tf.keras.layers.Dense(n_hidden1, activation='relu')#first layer of neurons with relu activation function\n",
        "        #Hidden Layer 2\n",
        "        self.fc2 = tf.keras.layers.Dense(n_hidden2, activation='relu')#2nd layer of neurons with relu activation\n",
        "\n",
        "        #Output Layer for policy\n",
        "        self.pi_out = tf.keras.layers.Dense(action_size, activation='softmax')#softmax activation for the policy parameters\n",
        "        #Output Layer for state-value\n",
        "        self.v_out = tf.keras.layers.Dense(1)#no activation function required for the value parameters\n",
        "\n",
        "    def call(self, state):\n",
        "        layer1 = self.fc1(state)\n",
        "        layer2 = self.fc2(layer1)\n",
        "\n",
        "        pi = self.pi_out(layer2)\n",
        "        v = self.v_out(layer2)\n",
        "\n",
        "        return pi, v\n",
        "class Agent:\n",
        "    def __init__(self, action_size, lr=0.001, gamma=0.99, seed = 85):\n",
        "        self.gamma = gamma #df\n",
        "        self.ac_model = ActorCriticModel(action_size=action_size)\n",
        "        self.ac_model.compile(tf.keras.optimizers.Adam(learning_rate=lr))#Adam optimizer\n",
        "        np.random.seed(seed)#setting a seed for  neural network\n",
        "\n",
        "    def sample_action(self, state):# function to sample actions and also compute the policy for  a given statee\n",
        "        pi,_ = self.ac_model(state)\n",
        "\n",
        "        action_probabilities = tfp.distributions.Categorical(probs=pi) #Categorical distribution created for action probabilities\n",
        "        sample = action_probabilities.sample()\n",
        "\n",
        "        return int(sample.numpy()[0])\n",
        "\n",
        "    def actor_loss(self, action, pi, delta):\n",
        "        return -tf.math.log(pi[0,action]) * delta #computing loss of actor\n",
        "\n",
        "    def critic_loss(self,delta):\n",
        "        return delta**2 #computinng loss of critic\n",
        "\n",
        "    @tf.function\n",
        "    def learn(self, state, action, reward, next_state, done):\n",
        "        with tf.GradientTape(persistent=True) as tape:#tf.GradientTape is a context manager that records the operations performed on tensors. tf.GradientTape can track any tensor that is watched, either explicitly or implicitly\n",
        "            pi, V_s = self.ac_model(state)\n",
        "            _, V_s_next = self.ac_model(next_state)\n",
        "\n",
        "            V_s = tf.squeeze(V_s)\n",
        "            V_s_next = tf.squeeze(V_s_next)\n",
        "\n",
        "\n",
        "\n",
        "            delta = reward + self.gamma*V_s_next - V_s #TD Error\n",
        "            loss_a = self.actor_loss(action, pi, delta) #actor loss\n",
        "            loss_c =self.critic_loss(delta) #Critic loss\n",
        "            loss_total = loss_a + loss_c #total loss  is loss of actor network and critic network\n",
        "\n",
        "        gradient = tape.gradient(loss_total, self.ac_model.trainable_variables)\n",
        "        #the tape.gradient() or tape.jacobian() method to compute the gradient or jacobian of your function or model with respect to your variables or tensors or in this case the model\n",
        "        self.ac_model.optimizer.apply_gradients(zip(gradient, self.ac_model.trainable_variables))\n",
        "        #optimizer\n",
        "env = gym.make('CartPole-v1')#Using Cartpole Environment\n",
        "\n",
        "#Initializing Agent\n",
        "agent = Agent(lr=1e-4, action_size=env.action_space.n)\n",
        "#Number of episodes\n",
        "episodes = 1000\n",
        "tf.compat.v1.reset_default_graph()\n",
        "\n",
        "reward_list = []\n",
        "average_reward_list = []\n",
        "\n",
        "\n",
        "for ep in range(1, episodes + 1):\n",
        "    state = env.reset().reshape(1,-1)\n",
        "    done = False\n",
        "    ep_rew = 0\n",
        "    while not done:\n",
        "        action = agent.sample_action(state) ##Sample Action\n",
        "        next_state, reward, done, info = env.step(action) ##Take action\n",
        "        next_state = next_state.reshape(1,-1)\n",
        "        ep_rew += reward  ##Updating episode reward\n",
        "        agent.learn(state, action, reward, next_state, done) ##Update Parameters\n",
        "        state = next_state ##Updating State\n",
        "    reward_list.append(ep_rew)\n",
        "\n",
        "    if ep % 10 == 0:\n",
        "        avg_rew = np.mean(reward_list[-10:])\n",
        "        print('Episode ', ep, 'Reward %f' % ep_rew, 'Average Reward %f' % avg_rew)\n",
        "\n",
        "    if ep % 100:\n",
        "        avg_100 =  np.mean(reward_list[-100:])\n",
        "        if avg_100 > 150.0:\n",
        "            print('Stopped at Episode ',ep-100)\n",
        "            break\n",
        "\n",
        "\n",
        "\n",
        "\n",
        "avg_rew = [np.mean(reward_list[max(0,i-100):i]) for i in range(1,len(reward_list)+1)]\n",
        "\n",
        "plt.figure()\n",
        "plt.plot(np.arange(len(avg_rew)), avg_rew, 'b')\n",
        "plt.xlabel('Episode')\n",
        "plt.ylabel('Moving Avg Reward')\n",
        "plt.show()"
      ],
      "metadata": {
        "colab": {
          "base_uri": "https://localhost:8080/",
          "height": 1000
        },
        "id": "ML3jw6LzIcTg",
        "outputId": "a5051c5a-c14a-4609-848c-31775c1cfb0c"
      },
      "execution_count": 23,
      "outputs": [
        {
          "output_type": "stream",
          "name": "stderr",
          "text": [
            "/usr/local/lib/python3.10/dist-packages/tensorflow_probability/python/__init__.py:57: DeprecationWarning: distutils Version classes are deprecated. Use packaging.version instead.\n",
            "  if (distutils.version.LooseVersion(tf.__version__) <\n",
            "/usr/local/lib/python3.10/dist-packages/gym/core.py:317: DeprecationWarning: \u001b[33mWARN: Initializing wrapper in old step API which returns one bool instead of two. It is recommended to set `new_step_api=True` to use new step API. This will be the default behaviour in future.\u001b[0m\n",
            "  deprecation(\n",
            "/usr/local/lib/python3.10/dist-packages/gym/wrappers/step_api_compatibility.py:39: DeprecationWarning: \u001b[33mWARN: Initializing environment in old step API which returns one bool instead of two. It is recommended to set `new_step_api=True` to use new step API. This will be the default behaviour in future.\u001b[0m\n",
            "  deprecation(\n",
            "/usr/local/lib/python3.10/dist-packages/gym/utils/passive_env_checker.py:241: DeprecationWarning: `np.bool8` is a deprecated alias for `np.bool_`.  (Deprecated NumPy 1.24)\n",
            "  if not isinstance(terminated, (bool, np.bool8)):\n"
          ]
        },
        {
          "output_type": "stream",
          "name": "stdout",
          "text": [
            "Episode  10 Reward 21.000000 Average Reward 37.600000\n",
            "Episode  20 Reward 26.000000 Average Reward 50.100000\n",
            "Episode  30 Reward 82.000000 Average Reward 59.800000\n",
            "Episode  40 Reward 193.000000 Average Reward 123.000000\n",
            "Episode  50 Reward 133.000000 Average Reward 132.300000\n",
            "Episode  60 Reward 229.000000 Average Reward 137.200000\n",
            "Episode  70 Reward 115.000000 Average Reward 96.900000\n",
            "Episode  80 Reward 75.000000 Average Reward 84.300000\n",
            "Episode  90 Reward 80.000000 Average Reward 85.300000\n",
            "Episode  100 Reward 67.000000 Average Reward 73.400000\n",
            "Episode  110 Reward 57.000000 Average Reward 92.500000\n",
            "Episode  120 Reward 75.000000 Average Reward 96.700000\n",
            "Episode  130 Reward 156.000000 Average Reward 143.100000\n",
            "Episode  140 Reward 146.000000 Average Reward 160.300000\n",
            "Episode  150 Reward 68.000000 Average Reward 67.000000\n",
            "Episode  160 Reward 148.000000 Average Reward 89.100000\n",
            "Episode  170 Reward 68.000000 Average Reward 81.600000\n",
            "Episode  180 Reward 101.000000 Average Reward 90.200000\n",
            "Episode  190 Reward 56.000000 Average Reward 81.900000\n",
            "Episode  200 Reward 313.000000 Average Reward 114.200000\n",
            "Episode  210 Reward 286.000000 Average Reward 184.500000\n",
            "Episode  220 Reward 172.000000 Average Reward 224.900000\n",
            "Episode  230 Reward 474.000000 Average Reward 458.400000\n",
            "Episode  240 Reward 224.000000 Average Reward 424.200000\n",
            "Stopped at Episode  146\n"
          ]
        },
        {
          "output_type": "display_data",
          "data": {
            "text/plain": [
              "<Figure size 640x480 with 1 Axes>"
            ],
            "image/png": "[encoded data removed]"
          },
          "metadata": {}
        }
      ]
    }
  ]
}